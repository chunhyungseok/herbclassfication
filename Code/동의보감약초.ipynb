{
 "cells": [
  {
   "cell_type": "code",
   "execution_count": 1,
   "id": "3385918c",
   "metadata": {},
   "outputs": [],
   "source": [
    "from PIL import Image\n",
    "import numpy as np\n",
    "import pandas as pd\n",
    "from sklearn.preprocessing import LabelEncoder\n",
    "from torch.utils.data import Dataset, DataLoader\n",
    "import torch\n",
    "import torchvision\n",
    "from torchvision import transforms"
   ]
  },
  {
   "cell_type": "code",
   "execution_count": 15,
   "id": "3d53d4e7",
   "metadata": {},
   "outputs": [],
   "source": [
    "class herbdata(Dataset):\n",
    "    transform = transforms.Compose([transforms.Resize((256,256)),\n",
    "                          transforms.ToTensor(),\n",
    "                          transforms.Normalize((0.5,0.5,0.5),(0.5,0.5,0.5))\n",
    "                           ])\n",
    "    \n",
    "    def __init__(self, path):\n",
    "        \n",
    "        self.trainset = torchvision.datasets.ImageFolder(root= path, transform = self.transform)\n",
    "        \n",
    "    def __len__(self):\n",
    "        return len(self.trainset)\n",
    "    \n",
    "    def __getitem__(self, index):\n",
    "        \n",
    "        x = self.trainset[index][0]\n",
    "        y = self.trainset[index][1]\n",
    "        \n",
    "        return x, y\n",
    "        "
   ]
  },
  {
   "cell_type": "code",
   "execution_count": 18,
   "id": "756079f8",
   "metadata": {},
   "outputs": [],
   "source": [
    "trainset = herbdata(\"/DAS_Storage4/hyungseok/2020-02-140.동의보감약초_sample/img\")\n",
    "trainloader = DataLoader(trainset, batch_size = 128, shuffle = False)"
   ]
  },
  {
   "cell_type": "code",
   "execution_count": null,
   "id": "5e598b79",
   "metadata": {},
   "outputs": [],
   "source": []
  }
 ],
 "metadata": {
  "kernelspec": {
   "display_name": "Python 3 (ipykernel)",
   "language": "python",
   "name": "python3"
  },
  "language_info": {
   "codemirror_mode": {
    "name": "ipython",
    "version": 3
   },
   "file_extension": ".py",
   "mimetype": "text/x-python",
   "name": "python",
   "nbconvert_exporter": "python",
   "pygments_lexer": "ipython3",
   "version": "3.7.13"
  }
 },
 "nbformat": 4,
 "nbformat_minor": 5
}
